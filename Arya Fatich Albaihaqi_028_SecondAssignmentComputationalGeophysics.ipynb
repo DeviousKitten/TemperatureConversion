{
 "cells": [
  {
   "cell_type": "markdown",
   "id": "88ae62d6-1e22-48c7-bc2e-e468b7ab7969",
   "metadata": {},
   "source": [
    "# Temperature Conversion by Arya Fatich Albaihaqi 028"
   ]
  },
  {
   "cell_type": "markdown",
   "id": "3d785484-2b74-4a4b-b749-6c04c3fe1b7f",
   "metadata": {},
   "source": [
    "## Temperature Conversion"
   ]
  },
  {
   "cell_type": "markdown",
   "id": "35aa3171-65b9-4fa4-ad5f-f38ed40b43fd",
   "metadata": {},
   "source": [
    "### Temperature Conversion From Celsius"
   ]
  },
  {
   "cell_type": "code",
   "execution_count": 110,
   "id": "94701739-01e5-4953-a950-765e903aca8c",
   "metadata": {},
   "outputs": [
    {
     "name": "stdout",
     "output_type": "stream",
     "text": [
      "Conversion from Celsius\n"
     ]
    },
    {
     "name": "stdin",
     "output_type": "stream",
     "text": [
      "Input Temperature in Celsius 100\n"
     ]
    },
    {
     "name": "stdout",
     "output_type": "stream",
     "text": [
      "Temperature in Kelvin= 373.15\n",
      "Temperature in Celsius degree= 100\n",
      "Temperature in Fahrenheit degree= 212.0\n",
      "Temperature in Reaumur degree= 80.0\n"
     ]
    }
   ],
   "source": [
    "print('Conversion from Celsius')\n",
    "T_cel=int(input('Input Temperature in Celsius')) #Input Temperature in Celsius\n",
    "#calculate\n",
    "T_k=T_cel+273.15\n",
    "T_f=T_cel*(9/5)+32\n",
    "T_r=T_cel*(4/5)\n",
    "#output\n",
    "print('Temperature in Kelvin=', T_k)\n",
    "print('Temperature in Celsius degree=', T_cel)\n",
    "print('Temperature in Fahrenheit degree=', T_f)\n",
    "print('Temperature in Reaumur degree=', T_r)"
   ]
  },
  {
   "cell_type": "markdown",
   "id": "7b2b3b62-aff5-42ce-a63c-2e2beb177f77",
   "metadata": {},
   "source": [
    "### Temperature Conversion From Kelvin"
   ]
  },
  {
   "cell_type": "code",
   "execution_count": 104,
   "id": "c174bb4c-ff5d-43ef-95f6-94914e48b725",
   "metadata": {},
   "outputs": [
    {
     "name": "stdout",
     "output_type": "stream",
     "text": [
      "Conversion from Kelvin\n"
     ]
    },
    {
     "name": "stdin",
     "output_type": "stream",
     "text": [
      "Input Temperature in Kelvin 100\n"
     ]
    },
    {
     "name": "stdout",
     "output_type": "stream",
     "text": [
      "Temperature in Kelvin= 100\n",
      "Temperature in Celsius degree= -173.14999999999998\n",
      "Temperature in Fahrenheit degree= -279.66999999999996\n",
      "Temperature in Reaumur degree= -138.51999999999998\n"
     ]
    }
   ],
   "source": [
    "print('Conversion from Kelvin')\n",
    "T_k=int(input('Input Temperature in Kelvin')) #Input Temperature in Kelvin\n",
    "#calculate\n",
    "T_c=T_k-273.15\n",
    "T_f=(T_k-273.15)*(9/5)+32\n",
    "T_r=(T_k-273.15)*(4/5)\n",
    "#output\n",
    "print('Temperature in Kelvin=', T_k)\n",
    "print('Temperature in Celsius degree=', T_c)\n",
    "print('Temperature in Fahrenheit degree=', T_f)\n",
    "print('Temperature in Reaumur degree=', T_r)"
   ]
  },
  {
   "cell_type": "markdown",
   "id": "0b4a8e39-0a4c-4de1-8512-b2e38bb90ff4",
   "metadata": {},
   "source": [
    "### Temperature Conversion From Fahrenheit"
   ]
  },
  {
   "cell_type": "code",
   "execution_count": 112,
   "id": "bd3ec3fb-5059-4b51-85d9-3cdc0d83ca08",
   "metadata": {},
   "outputs": [
    {
     "name": "stdout",
     "output_type": "stream",
     "text": [
      "Conversion from Fahrenheit\n"
     ]
    },
    {
     "name": "stdin",
     "output_type": "stream",
     "text": [
      "Input Temperature in Fahrenheit 100\n"
     ]
    },
    {
     "name": "stdout",
     "output_type": "stream",
     "text": [
      "Temperature in Kelvin= 310.92777777777775\n",
      "Temperature in Celsius degree= 37.77777777777778\n",
      "Temperature in Fahrenheit degree= 100\n",
      "Temperature in Reaumur degree= 30.22222222222222\n"
     ]
    }
   ],
   "source": [
    "print('Conversion from Fahrenheit')\n",
    "T_f=int(input('Input Temperature in Fahrenheit')) #Input Temperature in Fahrenheit\n",
    "#calculate\n",
    "T_c=(T_f-32)*(5/9)\n",
    "T_k=(T_f-32)*(5/9)+273.15\n",
    "T_r=(T_f-32)*(4/9)\n",
    "#output\n",
    "print('Temperature in Kelvin=', T_k)\n",
    "print('Temperature in Celsius degree=', T_c)\n",
    "print('Temperature in Fahrenheit degree=', T_f)\n",
    "print('Temperature in Reaumur degree=', T_r)"
   ]
  },
  {
   "cell_type": "markdown",
   "id": "042ac569-04d2-4543-a898-5492bed6f7d4",
   "metadata": {},
   "source": [
    "### Temperature Conversion From Reaumur"
   ]
  },
  {
   "cell_type": "code",
   "execution_count": 114,
   "id": "d5da808c-440f-45a2-ae5d-d5a79f46149a",
   "metadata": {},
   "outputs": [
    {
     "name": "stdout",
     "output_type": "stream",
     "text": [
      "Conversion from Reaumur\n"
     ]
    },
    {
     "name": "stdin",
     "output_type": "stream",
     "text": [
      "Input Temperature in Reaumur 100\n"
     ]
    },
    {
     "name": "stdout",
     "output_type": "stream",
     "text": [
      "Temperature in Kelvin= 398.15\n",
      "Temperature in Celsius degree= 125.0\n",
      "Temperature in Fahrenheit degree= 257.0\n",
      "Temperature in Reaumur degree= 100\n"
     ]
    }
   ],
   "source": [
    "print('Conversion from Reaumur')\n",
    "T_r=int(input('Input Temperature in Reaumur')) #Input Temperature in Reaumur\n",
    "#calculate\n",
    "T_c=T_r*(5/4)\n",
    "T_k=T_r*(5/4)+273.15\n",
    "T_f=T_r*(9/4)+32\n",
    "#output\n",
    "print('Temperature in Kelvin=', T_k)\n",
    "print('Temperature in Celsius degree=', T_c)\n",
    "print('Temperature in Fahrenheit degree=', T_f)\n",
    "print('Temperature in Reaumur degree=', T_r)"
   ]
  },
  {
   "cell_type": "code",
   "execution_count": null,
   "id": "4a44ac49-ac6d-44a9-b7e5-5f9ad98953e8",
   "metadata": {},
   "outputs": [],
   "source": []
  }
 ],
 "metadata": {
  "kernelspec": {
   "display_name": "Python 3 (ipykernel)",
   "language": "python",
   "name": "python3"
  },
  "language_info": {
   "codemirror_mode": {
    "name": "ipython",
    "version": 3
   },
   "file_extension": ".py",
   "mimetype": "text/x-python",
   "name": "python",
   "nbconvert_exporter": "python",
   "pygments_lexer": "ipython3",
   "version": "3.12.4"
  }
 },
 "nbformat": 4,
 "nbformat_minor": 5
}
